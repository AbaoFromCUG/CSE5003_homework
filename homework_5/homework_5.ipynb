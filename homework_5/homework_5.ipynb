{
 "cells": [
  {
   "cell_type": "code",
   "execution_count": 22,
   "id": "4db7f7d6-508d-4425-839c-5531a8ae81b2",
   "metadata": {},
   "outputs": [],
   "source": [
    "import numpy as np\n",
    "from itertools import permutations"
   ]
  },
  {
   "cell_type": "code",
   "execution_count": 24,
   "id": "671fd1b1-d060-4fd9-9ff2-d092936ff66d",
   "metadata": {},
   "outputs": [
    {
     "name": "stdout",
     "output_type": "stream",
     "text": [
      "(1, 1, 2)\n",
      "(1, 2, 1)\n",
      "(1, 1, 2)\n",
      "(1, 2, 1)\n",
      "(2, 1, 1)\n",
      "(2, 1, 1)\n",
      "None\n"
     ]
    }
   ],
   "source": []
  },
  {
   "cell_type": "code",
   "execution_count": 14,
   "id": "d173a790-4f33-4115-b929-4b372bdae65e",
   "metadata": {},
   "outputs": [
    {
     "name": "stdout",
     "output_type": "stream",
     "text": [
      "[[4, 6, 7], [2, 5, 3]]\n",
      "[[7, 4, 3], [6, 5, 2]]\n"
     ]
    }
   ],
   "source": [
    "def greety(m, jobs: list[int]):\n",
    "    L = [0] * m\n",
    "    J = [[] for i in range(m)]\n",
    "    for i in range(len(jobs)):\n",
    "        j = np.argmin(L)\n",
    "        L[j] = L[j] + jobs[i]\n",
    "        J[j].append(jobs[i])\n",
    "    return J\n",
    "\n",
    "sorted_greety(2, [4, 2, 5, 6, 3, 7])\n",
    "def sorted_greety(m, jobs: list[int]):\n",
    "    jobs.sort(reverse=True)\n",
    "    L = [0] * m\n",
    "    J = [[] for i in range(m)]\n",
    "    for i in range(len(jobs)):\n",
    "        j = np.argmin(L)\n",
    "        L[j] = L[j] + jobs[i]\n",
    "        J[j].append(jobs[i])\n",
    "    return J\n",
    "\n",
    "print(greety(2, [4, 2, 5, 6, 3, 7]))\n",
    "print(sorted_greety(2, [4, 2, 5, 6, 3, 7]))"
   ]
  },
  {
   "cell_type": "code",
   "execution_count": 28,
   "id": "0455e70e-fa5b-421a-a32e-092fc2265de9",
   "metadata": {},
   "outputs": [
    {
     "name": "stdout",
     "output_type": "stream",
     "text": [
      "2.3333333333333335\n",
      "2\n"
     ]
    }
   ],
   "source": [
    "def average_markspan(m, jobs: list[int]):\n",
    "    Ts = []\n",
    "    for order in permutations(jobs):\n",
    "        Ts.append(max([sum(J) for J in greety(m, order)]))\n",
    "    return sum(Ts) / len(Ts)\n",
    "\n",
    "def min_markspan(m, jobs: list[int]):\n",
    "    Ts = []\n",
    "    for order in permutations(jobs):\n",
    "        Ts.append(max([sum(J) for J in greety(m, order)]))\n",
    "    return min(Ts)\n",
    "\n",
    "print(average_markspan(2, [1, 1, 2]))\n",
    "print(min_markspan(2, [1, 1, 2]))"
   ]
  },
  {
   "cell_type": "code",
   "execution_count": null,
   "id": "ebb84887-c228-4e9d-88ac-40998a680c2c",
   "metadata": {},
   "outputs": [],
   "source": []
  }
 ],
 "metadata": {
  "kernelspec": {
   "display_name": "Python 3 (ipykernel)",
   "language": "python",
   "name": "python3"
  },
  "language_info": {
   "codemirror_mode": {
    "name": "ipython",
    "version": 3
   },
   "file_extension": ".py",
   "mimetype": "text/x-python",
   "name": "python",
   "nbconvert_exporter": "python",
   "pygments_lexer": "ipython3",
   "version": "3.11.4"
  }
 },
 "nbformat": 4,
 "nbformat_minor": 5
}
