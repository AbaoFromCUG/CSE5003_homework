{
 "cells": [
  {
   "cell_type": "code",
   "execution_count": 1,
   "id": "4db7f7d6-508d-4425-839c-5531a8ae81b2",
   "metadata": {},
   "outputs": [],
   "source": [
    "import numpy as np\n",
    "import matplotlib as mpl\n",
    "import matplotlib.pyplot as plt\n",
    "from itertools import permutations\n",
    "import multiprocessing\n",
    "import time"
   ]
  },
  {
   "cell_type": "code",
   "execution_count": 2,
   "id": "d173a790-4f33-4115-b929-4b372bdae65e",
   "metadata": {},
   "outputs": [
    {
     "name": "stdout",
     "output_type": "stream",
     "text": [
      "[[4, 6, 7], [2, 5, 3]]\n",
      "[[('J1', 4), ('J4', 6), ('J6', 7)], [('J2', 2), ('J3', 5), ('J5', 3)]]\n",
      "[('J6', 7), ('J4', 6), ('J3', 5), ('J1', 4), ('J5', 3), ('J2', 2)]\n",
      "[[('J6', 7), ('J1', 4), ('J5', 3)], [('J4', 6), ('J3', 5), ('J2', 2)]]\n"
     ]
    }
   ],
   "source": [
    "def greedy(m, jobs: list[(str, int)]):\n",
    "    J = [[] for i in range(m)]\n",
    "    L = [0] * m\n",
    "    for j, (name, t) in enumerate(jobs):\n",
    "        i = np.argmin(L)\n",
    "        J[i].append((name, t))\n",
    "        L[i] = L[i] + t\n",
    "    return J\n",
    "    \n",
    "def greedy_2(m, jobs: list[int]):\n",
    "    J = [[] for i in range(m)]\n",
    "    L = np.zeros(m)\n",
    "    for j, t in enumerate(jobs):\n",
    "        i = np.argmin(L)\n",
    "        J[i].append(t)\n",
    "        L[i] = L[i] + t\n",
    "    return J\n",
    "\n",
    "\n",
    "\n",
    "def sorted_greedy(m, jobs: list[(str, int)]):\n",
    "    jobs.sort(key=lambda item: item[1], reverse=True)\n",
    "    print(jobs)\n",
    "    J = [[] for i in range(m)]\n",
    "    L = [0] * m\n",
    "    for j, (name, t) in enumerate(jobs):\n",
    "        i = np.argmin(L)\n",
    "        J[i].append((name, t))\n",
    "        L[i] = L[i] + t\n",
    "    return J\n",
    "\n",
    "def gen_jobs(arr):\n",
    "    jobs = []\n",
    "    for i in range(len(arr)):\n",
    "        jobs.append((f\"J{i+1}\", arr[i]))\n",
    "    return jobs\n",
    "\n",
    "jobs = gen_jobs([4, 2, 5, 6, 3, 7])\n",
    "print(greedy_2(2, [4, 2, 5, 6, 3, 7]))\n",
    "print(greedy(2, jobs))\n",
    "print(sorted_greedy(2, jobs))"
   ]
  },
  {
   "cell_type": "code",
   "execution_count": 3,
   "id": "0455e70e-fa5b-421a-a32e-092fc2265de9",
   "metadata": {},
   "outputs": [
    {
     "name": "stdout",
     "output_type": "stream",
     "text": [
      "5.428571428571429 4 1.3571428571428572\n",
      "程序运行时间为0.9762140249999902秒\n",
      "CPU times: user 979 ms, sys: 8.21 ms, total: 987 ms\n",
      "Wall time: 976 ms\n"
     ]
    }
   ],
   "source": [
    "%%time\n",
    "\n",
    "# def evaluate_markspan(m, jobs: list[(str, int)]):\n",
    "#     jobs = [j[1] for j in jobs]\n",
    "#     Ts = []\n",
    "#     for order in permutations(jobs):\n",
    "#         results = greedy_2(m, order)\n",
    "#         temp = list(map(np.sum, results))\n",
    "#         Ts.append(np.max(temp))\n",
    "#     return sum(Ts) / len(Ts), min(Ts)\n",
    "\n",
    "def greedy_2(m, jobs: list[int]):\n",
    "    J = [[] for i in range(m)]\n",
    "    L = [0] * m\n",
    "    for j, t in enumerate(jobs):\n",
    "        i = np.argmin(L)\n",
    "        J[i].append(t)\n",
    "        L[i] = L[i] + t\n",
    "    return J\n",
    "\n",
    "def evaluate_markspan(m, jobs: list[(str, int)]):\n",
    "    jobs = [j[1] for j in jobs]\n",
    "    Ts = []\n",
    "    for order in permutations(jobs):\n",
    "        temp = 0 \n",
    "        for assigned in greedy_2(m, order):\n",
    "            temp = max(temp, sum(assigned))\n",
    "        Ts.append(temp)\n",
    "    return sum(Ts) / len(Ts), min(Ts)\n",
    "# jobs = [('J1', 1), ('J2', 1), ('J3', 2), ('J4', 2), ('J5', 3), ('J6', 3), ('J7', 4), ('J8', 4), ('J9', 5), ('J10', 5)]\n",
    "jobs = [('J1', 1), ('J2', 1), ('J3', 2), ('J4', 2), ('J5', 3), ('J6', 3), ('J7', 4), ('J8', 4)]\n",
    "\n",
    "# 记录程序开始运行的时间\n",
    "start = time.perf_counter()\n",
    "\n",
    "averageT, minT = evaluate_markspan(int(len(jobs)/2)+1, jobs)\n",
    "print(averageT, minT, averageT/minT)\n",
    "\n",
    "# 记录程序结束运行的时间\n",
    "end = time.perf_counter()\n",
    "\n",
    "# 计算程序运行时间\n",
    "elapsed = end - start\n",
    "print(f\"程序运行时间为{elapsed}秒\")"
   ]
  },
  {
   "cell_type": "code",
   "execution_count": 4,
   "id": "aeb42634-65d5-40cb-b23b-8f76bc5d4bdb",
   "metadata": {},
   "outputs": [
    {
     "name": "stdout",
     "output_type": "stream",
     "text": [
      "5.428571428571429 4 1.3571428571428572\n",
      "程序运行时间为0.2117369430002327毫秒\n"
     ]
    }
   ],
   "source": [
    "\n",
    "machine_num = 0\n",
    "def worker(order):\n",
    "    temp = 0 \n",
    "    for assigned in greedy_2(machine_num, order):\n",
    "        temp = max(temp, sum(assigned))\n",
    "    return temp\n",
    "        \n",
    "def evaluate_markspan_2(m, jobs: list[(str, int)]):\n",
    "    global machine_num\n",
    "    machine_num = m\n",
    "    jobs = [j[1] for j in jobs]\n",
    "    Ts = []\n",
    "    pool = multiprocessing.Pool(processes=16) \n",
    "   \n",
    "    Ts = pool.map(worker, permutations(jobs))\n",
    "    # pool.close()\n",
    "    # pool.join()\n",
    "\n",
    "    return sum(Ts) / len(Ts), min(Ts)\n",
    "\n",
    "jobs = [('J1', 1), ('J2', 1), ('J3', 2), ('J4', 2), ('J5', 3), ('J6', 3), ('J7', 4), ('J8', 4)]\n",
    "\n",
    "\n",
    "# 记录程序开始运行的时间\n",
    "start = time.perf_counter()\n",
    "\n",
    "averageT, minT = evaluate_markspan_2(int(len(jobs)/2)+1, jobs)\n",
    "print(averageT, minT, averageT/minT)\n",
    "\n",
    "# 记录程序结束运行的时间\n",
    "end = time.perf_counter()\n",
    "\n",
    "# 计算程序运行时间\n",
    "elapsed = end - start\n",
    "print(f\"程序运行时间为{elapsed}毫秒\")"
   ]
  },
  {
   "cell_type": "code",
   "execution_count": 5,
   "id": "baf522cc-9906-411c-95c4-ccc101b06b59",
   "metadata": {},
   "outputs": [
    {
     "name": "stdout",
     "output_type": "stream",
     "text": [
      "2.3333333333333335 2 1.1666666666666667\n",
      "程序运行时间为0.0004525969998212531秒\n"
     ]
    }
   ],
   "source": [
    "jobs = gen_jobs([1, 1, 2])\n",
    "\n",
    "# 记录程序开始运行的时间\n",
    "start = time.perf_counter()\n",
    "\n",
    "averageT, minT = evaluate_markspan(2, jobs)\n",
    "print(averageT, minT, averageT/minT)\n",
    "\n",
    "# 记录程序结束运行的时间\n",
    "end = time.perf_counter()\n",
    "\n",
    "# 计算程序运行时间\n",
    "elapsed = end - start\n",
    "print(f\"程序运行时间为{elapsed}秒\")\n"
   ]
  },
  {
   "cell_type": "code",
   "execution_count": 6,
   "id": "3172b8e2-2284-485e-9b3c-b87018153626",
   "metadata": {},
   "outputs": [
    {
     "name": "stdout",
     "output_type": "stream",
     "text": [
      "[('J3', 2), ('J1', 1), ('J2', 1)]\n"
     ]
    },
    {
     "data": {
      "image/png": "[encoded data removed]",
      "text/plain": [
       "<Figure size 640x300 with 1 Axes>"
      ]
     },
     "metadata": {},
     "output_type": "display_data"
    },
    {
     "data": {
      "image/png": "[encoded data removed]",
      "text/plain": [
       "<Figure size 640x300 with 1 Axes>"
      ]
     },
     "metadata": {},
     "output_type": "display_data"
    }
   ],
   "source": [
    "def flatten(lists):\n",
    "    flat_list = []\n",
    "    for row in lists:\n",
    "        flat_list.extend(row)\n",
    "    return flat_list\n",
    "\n",
    "def format_title(machine_num, jobs):\n",
    "    jobs = [f\"{job[1]}\" for job in jobs]\n",
    "    return f\"m={machine_num}, jobs=[{', '.join(jobs)}]\"\n",
    "\n",
    "def format_job(job):\n",
    "    # return f\"{job[0]}\"\n",
    "    return f\"{job[0]}({job[1]})\"\n",
    "\n",
    "\n",
    "\n",
    "def draw_assigned(assigned: list(list((str, int))), jobs):\n",
    "    machine_num = len(assigned)\n",
    "    machines = [f\"M{i+1}\" for i in range(machine_num)]\n",
    "    t = [[job[1] for job in assigned_jobs] for assigned_jobs in assigned]\n",
    "    t = flatten(t)\n",
    "    colors = mpl.colormaps[\"tab10\"](np.linspace(0, 1, len(t)))\n",
    " \n",
    "    fig, ax = plt.subplots(figsize=(6.4, 3))\n",
    "    ax.invert_yaxis()\n",
    "    ax.xaxis.set_visible(False)\n",
    "    ax.yaxis.set_visible(False)\n",
    "    ax.spines['top'].set_visible(False)\n",
    "    ax.spines['right'].set_visible(False)\n",
    "    ax.spines['bottom'].set_visible(False)\n",
    "    ax.spines['left'].set_visible(False)\n",
    "    # ax.set_axis_off()\n",
    "    # ax.set_title(format_title(machine_num, jobs))\n",
    "    for i, assigned_jobs in enumerate(assigned):\n",
    "        labels = list(map(format_job, assigned_jobs))\n",
    "        widths = [job[1] for job in assigned_jobs]\n",
    "        starts = [sum(widths[:i]) for i in range(len(assigned_jobs))]\n",
    "        # rects = ax.barh([machines[i]] * len(labels), widths, left=starts, height=0.5, label=labels, color=colors[:len(labels)])\n",
    "        rects = ax.barh([i] * len(labels), widths, left=starts, height=0.5, label=labels, color=colors[:len(labels)])\n",
    "        ax.text(-0.2, i, machines[i],  size=12,)\n",
    "        T = sum(widths)\n",
    "        ax.text(T + 0.01, i, f\"T={T}\",  size=12)\n",
    "        colors = colors[len(labels):]\n",
    "        \n",
    "        text_color = 'white'\n",
    "        \n",
    "        ax.bar_label(rects, labels=labels, size=12, label_type='center', color=text_color)\n",
    "    return fig, ax\n",
    "\n",
    "jobs = gen_jobs([1, 1, 2])\n",
    "draw_assigned(greedy(2, jobs), jobs)\n",
    "draw_assigned(sorted_greedy(2, jobs), jobs)\n",
    "plt.show()"
   ]
  },
  {
   "cell_type": "markdown",
   "id": "1a5ecab6-3e24-4ea4-ba9a-62f0317ac875",
   "metadata": {},
   "source": [
    "# Exercise 1"
   ]
  },
  {
   "cell_type": "code",
   "execution_count": 7,
   "id": "a8fc5301-f81f-4daf-88a2-d5ccbb9a0750",
   "metadata": {},
   "outputs": [],
   "source": [
    "def gen_repeat_jobs(num):\n",
    "    jobs = []\n",
    "    for i in range(num):\n",
    "        jobs.append((f\"J{len(jobs)+1}\", i+1))\n",
    "        jobs.append((f\"J{len(jobs)+1}\", i+1))\n",
    "    return jobs\n",
    "    "
   ]
  },
  {
   "cell_type": "markdown",
   "id": "9f19fc93-9c70-4592-8913-1569498dbc5e",
   "metadata": {},
   "source": [
    "## Example 1"
   ]
  },
  {
   "cell_type": "code",
   "execution_count": 8,
   "id": "971d3f16-16c2-40da-93c0-57fc9460dbbb",
   "metadata": {},
   "outputs": [
    {
     "name": "stdout",
     "output_type": "stream",
     "text": [
      "[('J1', 1), ('J2', 1), ('J3', 2), ('J4', 2), ('J5', 3), ('J6', 3), ('J7', 4), ('J8', 4)]\n",
      "(5.428571428571429, 4, 1.3571428571428572)\n"
     ]
    },
    {
     "data": {
      "image/png": "[encoded data removed]",
      "text/plain": [
       "<Figure size 640x300 with 1 Axes>"
      ]
     },
     "metadata": {},
     "output_type": "display_data"
    }
   ],
   "source": [
    "# %%time\n",
    "num = 4\n",
    "jobs = gen_repeat_jobs(num)\n",
    "print(jobs)\n",
    "best_assigned = [\n",
    "    [('J1', 1), ('J5', 3), ],\n",
    "    [('J2', 1), ('J6', 3), ],\n",
    "    [('J3', 2), ('J4', 2), ],\n",
    "    [('J7', 4)],\n",
    "    [('J8', 4)],\n",
    "]\n",
    "draw_assigned(best_assigned, jobs)\n",
    "\n",
    "averageT, minT = evaluate_markspan(num+1, jobs)\n",
    "print(f\"{averageT, minT, averageT/minT}\")"
   ]
  },
  {
   "cell_type": "markdown",
   "id": "b770b81e-d813-4809-8099-e2e905a4e505",
   "metadata": {},
   "source": [
    "## Example 2"
   ]
  },
  {
   "cell_type": "code",
   "execution_count": 9,
   "id": "e66b1bd7-dcc8-4bda-9d84-441e8791b78b",
   "metadata": {},
   "outputs": [
    {
     "name": "stdout",
     "output_type": "stream",
     "text": [
      "8.435185185185185 6 1.4058641975308641\n",
      "程序运行时间为16446.764689654003秒\n"
     ]
    }
   ],
   "source": [
    "# 记录程序开始运行的时间\n",
    "start = time.perf_counter()\n",
    "\n",
    "\n",
    "num = 6\n",
    "jobs = gen_repeat_jobs(num)\n",
    "# best_assigned = [\n",
    "#     [('J1', 1), ('J5', 3), ],\n",
    "#     [('J2', 1), ('J6', 3), ],\n",
    "#     [('J3', 2), ('J4', 2), ],\n",
    "#     [('J7', 4)],\n",
    "#     [('J8', 4)],\n",
    "# ]\n",
    "# draw_assigned(best_assigned, jobs)\n",
    "\n",
    "averageT, minT = evaluate_markspan(num+1, jobs)\n",
    "print(averageT, minT, averageT/minT)\n",
    "\n",
    "# 记录程序结束运行的时间\n",
    "end = time.perf_counter()\n",
    "\n",
    "# 计算程序运行时间\n",
    "elapsed = end - start\n",
    "print(f\"程序运行时间为{elapsed}秒\")"
   ]
  },
  {
   "cell_type": "code",
   "execution_count": null,
   "id": "39930cfe-c868-4605-aa42-fc71d812a742",
   "metadata": {},
   "outputs": [],
   "source": [
    "# 记录程序开始运行的时间\n",
    "start = time.perf_counter()\n",
    "\n",
    "\n",
    "num = 10\n",
    "jobs = gen_repeat_jobs(num)\n",
    "# best_assigned = [\n",
    "#     [('J1', 1), ('J5', 3), ],\n",
    "#     [('J2', 1), ('J6', 3), ],\n",
    "#     [('J3', 2), ('J4', 2), ],\n",
    "#     [('J7', 4)],\n",
    "#     [('J8', 4)],\n",
    "# ]\n",
    "# draw_assigned(best_assigned, jobs)\n",
    "\n",
    "averageT, minT = evaluate_markspan(num+1, jobs)\n",
    "print(averageT, minT, averageT/minT)\n",
    "\n",
    "# 记录程序结束运行的时间\n",
    "end = time.perf_counter()\n",
    "\n",
    "# 计算程序运行时间\n",
    "elapsed = end - start\n",
    "print(f\"程序运行时间为{elapsed}秒\")"
   ]
  },
  {
   "cell_type": "markdown",
   "id": "bf9e5007-b0a9-4cad-803c-a4b163f1afb7",
   "metadata": {},
   "source": [
    "# Exercise 2"
   ]
  },
  {
   "cell_type": "markdown",
   "id": "89517a45-2e1a-4aad-ade5-28a7d26d52e0",
   "metadata": {},
   "source": [
    "## Example 1"
   ]
  },
  {
   "cell_type": "code",
   "execution_count": null,
   "id": "6521abe8-d33a-44fb-81c2-604b71100097",
   "metadata": {},
   "outputs": [],
   "source": [
    "%%time\n",
    "\n",
    "jobs = [('J1', 1), ('J2', 1), ('J3', 1), ('J4', 1), ('J5', 4)]\n",
    "\n",
    "draw_assigned(greedy(2, jobs), jobs)\n",
    "draw_assigned(sorted_greedy(2, jobs), jobs)\n",
    "\n",
    "\n",
    "averageT, minT = evaluate_markspan(2, jobs)\n",
    "print(averageT, minT, averageT/minT)"
   ]
  },
  {
   "cell_type": "code",
   "execution_count": null,
   "id": "e6f1ef9d-fd06-4011-9904-8704e9197475",
   "metadata": {},
   "outputs": [],
   "source": []
  }
 ],
 "metadata": {
  "kernelspec": {
   "display_name": "Python 3 (ipykernel)",
   "language": "python",
   "name": "python3"
  },
  "language_info": {
   "codemirror_mode": {
    "name": "ipython",
    "version": 3
   },
   "file_extension": ".py",
   "mimetype": "text/x-python",
   "name": "python",
   "nbconvert_exporter": "python",
   "pygments_lexer": "ipython3",
   "version": "3.10.13"
  }
 },
 "nbformat": 4,
 "nbformat_minor": 5
}
