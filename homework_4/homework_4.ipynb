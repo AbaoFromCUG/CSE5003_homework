{
 "cells": [
  {
   "cell_type": "markdown",
   "id": "a3f9b4c9-a597-468d-8a45-0aa39511fb43",
   "metadata": {},
   "source": [
    "# Load Balancing Problem"
   ]
  },
  {
   "cell_type": "code",
   "execution_count": 18,
   "id": "62be0fd6-c71f-4f8c-a944-1e56e5bf18b3",
   "metadata": {},
   "outputs": [],
   "source": [
    "import numpy as np\n",
    "import matplotlib as mpl\n",
    "import matplotlib.pyplot as plt"
   ]
  },
  {
   "cell_type": "markdown",
   "id": "a4c0c726-772a-49ef-bbe5-3f2a118305a0",
   "metadata": {},
   "source": [
    "## Exercise 3-1\n",
    "\n",
    "Create two examples where the obtained makespan T is always\n",
    "the same as T * . (Easy examples for the greedy algorithm)."
   ]
  },
  {
   "cell_type": "code",
   "execution_count": 2,
   "id": "77ce1349-e9a8-4ca2-b586-c54a3365119e",
   "metadata": {},
   "outputs": [],
   "source": [
    "def greedy_solution(m, jobs: list[(str, int)]):\n",
    "    \"\"\"\n",
    "         Attributes\n",
    "        ----------\n",
    "        m : int\n",
    "            machine size\n",
    "        jobs: list[int]\n",
    "            job list\n",
    "    \"\"\"\n",
    "    assigned = [[] for i in range(m)]\n",
    "    L = [0] * m\n",
    "    for j, (name, t) in enumerate(jobs):\n",
    "        i = np.argmin(L)\n",
    "        assigned[i].append((name, t))\n",
    "        L[i] = L[i] + t\n",
    "\n",
    "    return assigned, max(L)\n",
    "\n",
    "def gen_equal_jobs(num, t, prefix=\"J\"):\n",
    "    jobs = []\n",
    "    for i in range(num): \n",
    "        jobs.append((f\"{prefix}_{i+1}\", t))\n",
    "    return jobs\n",
    "\n",
    "equal_jobs = gen_equal_jobs(4, 2)\n",
    "\n",
    "\n",
    "equal_jobs_assigned, equal_jobs_T = greedy_solution(2, equal_jobs)"
   ]
  },
  {
   "cell_type": "code",
   "execution_count": 26,
   "id": "1066d23c-58a3-47f2-b38a-d09649c41162",
   "metadata": {},
   "outputs": [
    {
     "name": "stdout",
     "output_type": "stream",
     "text": [
      "2 2\n",
      "['J_1', 'J_3'] [2, 2] [0, 2]\n",
      "['J_2', 'J_4'] [2, 2] [0, 2]\n"
     ]
    },
    {
     "data": {
      "image/png": "[encoded data removed]",
      "text/plain": [
       "<Figure size 920x500 with 1 Axes>"
      ]
     },
     "metadata": {},
     "output_type": "display_data"
    }
   ],
   "source": [
    "\n",
    "\n",
    "\n",
    "def survey(assigned: list(list((str, int)))):\n",
    "    \"\"\"\n",
    "    Parameters\n",
    "    ----------\n",
    "    \"\"\"\n",
    "    labels = [f\"Machine {i}\" for i in range(len(assigned))]\n",
    "    t = [[job[1] for job in assigned_jobs] for assigned_jobs in assigned]\n",
    "    min, max = np.min(t), np.max(t)\n",
    "    def n2c(vals):\n",
    "        mpl.colormaps\n",
    "    \n",
    "    fig, ax = plt.subplots(figsize=(9.2, 5))\n",
    "    ax.invert_yaxis()\n",
    "    ax.xaxis.set_visible(False)\n",
    "    # ax.set_xlim(0, np.sum(data, axis=1).max())\n",
    "\n",
    "    for i, assigned_jobs in enumerate(assigned):\n",
    "        labels = [job[0] for job in assigned_jobs]\n",
    "        widths = [job[1] for job in assigned_jobs]\n",
    "        starts = [sum(widths[:i]) for i in range(len(assigned_jobs))]\n",
    "        print(labels, widths, starts)\n",
    "        rects = ax.barh(labels, widths, left=starts, height=0.5,\n",
    "                        label=labels[i], color=n2c(widths))\n",
    "\n",
    "    #     r, g, b, _ = color\n",
    "    #     text_color = 'white' if r * g * b < 0.5 else 'darkgrey'\n",
    "    #     ax.bar_label(rects, label_type='center', color=text_color)\n",
    "    # ax.legend(ncols=len(category_names), bbox_to_anchor=(0, 1),\n",
    "    #           loc='lower left', fontsize='small')\n",
    "\n",
    "    return fig, ax\n",
    "\n",
    "\n",
    "survey(equal_jobs_assigned)\n",
    "plt.show()"
   ]
  }
 ],
 "metadata": {
  "kernelspec": {
   "display_name": "Python 3 (ipykernel)",
   "language": "python",
   "name": "python3"
  },
  "language_info": {
   "codemirror_mode": {
    "name": "ipython",
    "version": 3
   },
   "file_extension": ".py",
   "mimetype": "text/x-python",
   "name": "python",
   "nbconvert_exporter": "python",
   "pygments_lexer": "ipython3",
   "version": "3.11.4"
  }
 },
 "nbformat": 4,
 "nbformat_minor": 5
}
